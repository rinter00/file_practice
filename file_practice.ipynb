{
 "cells": [
  {
   "cell_type": "code",
   "execution_count": 6,
   "metadata": {},
   "outputs": [],
   "source": [
    "import csv\n",
    "\n",
    "with open(\"st.csv\",'w', newline='') as f:\n",
    "    w = csv.writer(f, delimiter=',')\n",
    "    w.writerow(['uno','due','tre'])\n",
    "    w.writerow(['quattro','cinque','sei'])"
   ]
  },
  {
   "cell_type": "code",
   "execution_count": 10,
   "metadata": {},
   "outputs": [
    {
     "name": "stdout",
     "output_type": "stream",
     "text": [
      "uno,due,tre\n",
      "quattro,cinque,sei\n"
     ]
    }
   ],
   "source": [
    "import csv\n",
    "\n",
    "with open('st.csv','r') as f:\n",
    "    r = csv.reader(f, delimiter=',')\n",
    "    for row in r:\n",
    "        print(','.join(row))"
   ]
  },
  {
   "cell_type": "code",
   "execution_count": 14,
   "metadata": {},
   "outputs": [
    {
     "name": "stdin",
     "output_type": "stream",
     "text": [
      "Who are you? I'm Rintaro\n"
     ]
    }
   ],
   "source": [
    "a = input(\"Who are you?\")\n",
    "with open(\"que.txt\",'w') as w:\n",
    "    w.write(a)"
   ]
  },
  {
   "cell_type": "code",
   "execution_count": 15,
   "metadata": {},
   "outputs": [
    {
     "name": "stdout",
     "output_type": "stream",
     "text": [
      "I'm Rintaro\n"
     ]
    }
   ],
   "source": [
    "with open(\"que.txt\",\"r\") as r:\n",
    "    print(r.read())"
   ]
  },
  {
   "cell_type": "code",
   "execution_count": 5,
   "metadata": {},
   "outputs": [],
   "source": [
    "lis = [['Top Gun','Risky Business','Minority Report'],['Titanic','The Revenant','Inception'],['Training Day','Man on Fire','Flight']]\n",
    "import csv\n",
    "\n",
    "with open(\"movie.csv\", 'w') as f:\n",
    "    w = csv.writer(f, delimiter=',')\n",
    "    for i in lis:\n",
    "        w.writerow(i)"
   ]
  },
  {
   "cell_type": "code",
   "execution_count": 6,
   "metadata": {},
   "outputs": [
    {
     "name": "stdout",
     "output_type": "stream",
     "text": [
      "Top Gun,Risky Business,Minority Report\n",
      "\n",
      "Titanic,The Revenant,Inception\n",
      "\n",
      "Training Day,Man on Fire,Flight\n",
      "\n"
     ]
    }
   ],
   "source": [
    "with open(\"movie.csv\",'r') as r:\n",
    "    f = csv.reader(r, delimiter=',')\n",
    "    for row in f:\n",
    "        print(','.join(row))"
   ]
  },
  {
   "cell_type": "code",
   "execution_count": 12,
   "metadata": {},
   "outputs": [
    {
     "name": "stdout",
     "output_type": "stream",
     "text": [
      "浄瑠璃,義太夫節,常磐津節\n",
      "\n",
      "歌舞伎,忠臣蔵,判官物\n",
      "\n",
      "能,般若,高砂\n",
      "\n"
     ]
    }
   ],
   "source": [
    "lis = [[\"浄瑠璃\",\"義太夫節\",\"常磐津節\"],[\"歌舞伎\",\"忠臣蔵\",\"判官物\"],[\"能\",\"般若\",\"高砂\"]]\n",
    "import csv\n",
    "\n",
    "with open('japan.csv','w',encoding='utf-8') as japan:\n",
    "    tradition = csv.writer(japan, delimiter=',')\n",
    "    for jkn in lis:\n",
    "        tradition.writerow(jkn)\n",
    "        \n",
    "with open(\"japan.csv\", 'r', encoding='utf-8') as r:\n",
    "    f = csv.reader(r, delimiter=',')\n",
    "    for i in f:\n",
    "        print(\",\".join(i))"
   ]
  },
  {
   "cell_type": "code",
   "execution_count": null,
   "metadata": {},
   "outputs": [],
   "source": []
  }
 ],
 "metadata": {
  "kernelspec": {
   "display_name": "Python 3",
   "language": "python",
   "name": "python3"
  },
  "language_info": {
   "codemirror_mode": {
    "name": "ipython",
    "version": 3
   },
   "file_extension": ".py",
   "mimetype": "text/x-python",
   "name": "python",
   "nbconvert_exporter": "python",
   "pygments_lexer": "ipython3",
   "version": "3.7.4"
  }
 },
 "nbformat": 4,
 "nbformat_minor": 4
}
